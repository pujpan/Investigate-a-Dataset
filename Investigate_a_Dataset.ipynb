{
 "cells": [
  {
   "cell_type": "markdown",
   "metadata": {},
   "source": [
    "# Project: TMDb movie Data Analysis\n",
    "\n",
    "## Table of Contents\n",
    "<ul>\n",
    "<li><a href=\"#intro\">Introduction</a></li>\n",
    "<li><a href=\"#wrangling\">Data Wrangling</a></li>\n",
    "<li><a href=\"#clean\">Data Cleaning</a></li>\n",
    "<li><a href=\"#eda\">Exploratory Data Analysis</a></li>\n",
    "<li><a href=\"#conclusions\">Conclusions</a></li>\n",
    "</ul>"
   ]
  },
  {
   "cell_type": "markdown",
   "metadata": {},
   "source": [
    "<a id='intro'></a>\n",
    "## Introduction"
   ]
  },
  {
   "cell_type": "code",
   "execution_count": 387,
   "metadata": {},
   "outputs": [],
   "source": [
    "#This cell is used to set up import statements for all of the packages that I plan to use.\n",
    "\n",
    "import numpy as np\n",
    "import pandas as pd\n",
    "import matplotlib.pyplot as plt\n",
    "import seaborn as sns\n",
    "% matplotlib inline"
   ]
  },
  {
   "cell_type": "markdown",
   "metadata": {},
   "source": [
    "<a id='wrangling'></a>\n",
    "## Data Wrangling\n",
    "\n",
    "In this section, the data will be loaded, and checked for cleanliness.\n"
   ]
  },
  {
   "cell_type": "code",
   "execution_count": 388,
   "metadata": {},
   "outputs": [
    {
     "data": {
      "text/html": [
       "<div>\n",
       "<style>\n",
       "    .dataframe thead tr:only-child th {\n",
       "        text-align: right;\n",
       "    }\n",
       "\n",
       "    .dataframe thead th {\n",
       "        text-align: left;\n",
       "    }\n",
       "\n",
       "    .dataframe tbody tr th {\n",
       "        vertical-align: top;\n",
       "    }\n",
       "</style>\n",
       "<table border=\"1\" class=\"dataframe\">\n",
       "  <thead>\n",
       "    <tr style=\"text-align: right;\">\n",
       "      <th></th>\n",
       "      <th>id</th>\n",
       "      <th>imdb_id</th>\n",
       "      <th>popularity</th>\n",
       "      <th>budget</th>\n",
       "      <th>revenue</th>\n",
       "      <th>original_title</th>\n",
       "      <th>cast</th>\n",
       "      <th>homepage</th>\n",
       "      <th>director</th>\n",
       "      <th>tagline</th>\n",
       "      <th>...</th>\n",
       "      <th>overview</th>\n",
       "      <th>runtime</th>\n",
       "      <th>genres</th>\n",
       "      <th>production_companies</th>\n",
       "      <th>release_date</th>\n",
       "      <th>vote_count</th>\n",
       "      <th>vote_average</th>\n",
       "      <th>release_year</th>\n",
       "      <th>budget_adj</th>\n",
       "      <th>revenue_adj</th>\n",
       "    </tr>\n",
       "  </thead>\n",
       "  <tbody>\n",
       "    <tr>\n",
       "      <th>0</th>\n",
       "      <td>135397</td>\n",
       "      <td>tt0369610</td>\n",
       "      <td>32.985763</td>\n",
       "      <td>150000000</td>\n",
       "      <td>1513528810</td>\n",
       "      <td>Jurassic World</td>\n",
       "      <td>Chris Pratt|Bryce Dallas Howard|Irrfan Khan|Vi...</td>\n",
       "      <td>http://www.jurassicworld.com/</td>\n",
       "      <td>Colin Trevorrow</td>\n",
       "      <td>The park is open.</td>\n",
       "      <td>...</td>\n",
       "      <td>Twenty-two years after the events of Jurassic ...</td>\n",
       "      <td>124</td>\n",
       "      <td>Action|Adventure|Science Fiction|Thriller</td>\n",
       "      <td>Universal Studios|Amblin Entertainment|Legenda...</td>\n",
       "      <td>2006-09-15</td>\n",
       "      <td>5562</td>\n",
       "      <td>6.5</td>\n",
       "      <td>2015</td>\n",
       "      <td>137999939.3</td>\n",
       "      <td>1.392446e+09</td>\n",
       "    </tr>\n",
       "    <tr>\n",
       "      <th>1</th>\n",
       "      <td>76341</td>\n",
       "      <td>tt1392190</td>\n",
       "      <td>28.419936</td>\n",
       "      <td>150000000</td>\n",
       "      <td>378436354</td>\n",
       "      <td>Mad Max: Fury Road</td>\n",
       "      <td>Tom Hardy|Charlize Theron|Hugh Keays-Byrne|Nic...</td>\n",
       "      <td>http://www.madmaxmovie.com/</td>\n",
       "      <td>George Miller</td>\n",
       "      <td>What a Lovely Day.</td>\n",
       "      <td>...</td>\n",
       "      <td>An apocalyptic story set in the furthest reach...</td>\n",
       "      <td>120</td>\n",
       "      <td>Action|Adventure|Science Fiction|Thriller</td>\n",
       "      <td>Village Roadshow Pictures|Kennedy Miller Produ...</td>\n",
       "      <td>5/13/15</td>\n",
       "      <td>6185</td>\n",
       "      <td>7.1</td>\n",
       "      <td>2015</td>\n",
       "      <td>137999939.3</td>\n",
       "      <td>3.481613e+08</td>\n",
       "    </tr>\n",
       "  </tbody>\n",
       "</table>\n",
       "<p>2 rows × 21 columns</p>\n",
       "</div>"
      ],
      "text/plain": [
       "       id    imdb_id  popularity     budget     revenue      original_title  \\\n",
       "0  135397  tt0369610   32.985763  150000000  1513528810      Jurassic World   \n",
       "1   76341  tt1392190   28.419936  150000000   378436354  Mad Max: Fury Road   \n",
       "\n",
       "                                                cast  \\\n",
       "0  Chris Pratt|Bryce Dallas Howard|Irrfan Khan|Vi...   \n",
       "1  Tom Hardy|Charlize Theron|Hugh Keays-Byrne|Nic...   \n",
       "\n",
       "                        homepage         director             tagline  \\\n",
       "0  http://www.jurassicworld.com/  Colin Trevorrow   The park is open.   \n",
       "1    http://www.madmaxmovie.com/    George Miller  What a Lovely Day.   \n",
       "\n",
       "       ...                                                overview runtime  \\\n",
       "0      ...       Twenty-two years after the events of Jurassic ...     124   \n",
       "1      ...       An apocalyptic story set in the furthest reach...     120   \n",
       "\n",
       "                                      genres  \\\n",
       "0  Action|Adventure|Science Fiction|Thriller   \n",
       "1  Action|Adventure|Science Fiction|Thriller   \n",
       "\n",
       "                                production_companies release_date vote_count  \\\n",
       "0  Universal Studios|Amblin Entertainment|Legenda...   2006-09-15       5562   \n",
       "1  Village Roadshow Pictures|Kennedy Miller Produ...      5/13/15       6185   \n",
       "\n",
       "   vote_average  release_year   budget_adj   revenue_adj  \n",
       "0           6.5          2015  137999939.3  1.392446e+09  \n",
       "1           7.1          2015  137999939.3  3.481613e+08  \n",
       "\n",
       "[2 rows x 21 columns]"
      ]
     },
     "execution_count": 388,
     "metadata": {},
     "output_type": "execute_result"
    }
   ],
   "source": [
    "#The data from csv file is loaded. Few operations are performed to inspect data \n",
    "#types and look for instances of missing or possibly errant data.\n",
    "\n",
    "#Here, one can see certain columns such as 'cast', 'genres', and 'production companies' have\n",
    "#multiple values separated by pipe | characters.\n",
    "df = pd.read_csv('tmdb-movies.csv')\n",
    "df.head(2)"
   ]
  },
  {
   "cell_type": "code",
   "execution_count": 389,
   "metadata": {},
   "outputs": [
    {
     "data": {
      "text/plain": [
       "(10866, 21)"
      ]
     },
     "execution_count": 389,
     "metadata": {},
     "output_type": "execute_result"
    }
   ],
   "source": [
    "df.shape #In total, there are 10866 rows and 21 columns."
   ]
  },
  {
   "cell_type": "code",
   "execution_count": 390,
   "metadata": {},
   "outputs": [
    {
     "data": {
      "text/html": [
       "<div>\n",
       "<style>\n",
       "    .dataframe thead tr:only-child th {\n",
       "        text-align: right;\n",
       "    }\n",
       "\n",
       "    .dataframe thead th {\n",
       "        text-align: left;\n",
       "    }\n",
       "\n",
       "    .dataframe tbody tr th {\n",
       "        vertical-align: top;\n",
       "    }\n",
       "</style>\n",
       "<table border=\"1\" class=\"dataframe\">\n",
       "  <thead>\n",
       "    <tr style=\"text-align: right;\">\n",
       "      <th></th>\n",
       "      <th>id</th>\n",
       "      <th>popularity</th>\n",
       "      <th>budget</th>\n",
       "      <th>revenue</th>\n",
       "      <th>runtime</th>\n",
       "      <th>vote_count</th>\n",
       "      <th>vote_average</th>\n",
       "      <th>release_year</th>\n",
       "      <th>budget_adj</th>\n",
       "      <th>revenue_adj</th>\n",
       "    </tr>\n",
       "  </thead>\n",
       "  <tbody>\n",
       "    <tr>\n",
       "      <th>count</th>\n",
       "      <td>10866.000000</td>\n",
       "      <td>10866.000000</td>\n",
       "      <td>1.086600e+04</td>\n",
       "      <td>1.086600e+04</td>\n",
       "      <td>10866.000000</td>\n",
       "      <td>10866.000000</td>\n",
       "      <td>10866.000000</td>\n",
       "      <td>10866.000000</td>\n",
       "      <td>1.086600e+04</td>\n",
       "      <td>1.086600e+04</td>\n",
       "    </tr>\n",
       "    <tr>\n",
       "      <th>mean</th>\n",
       "      <td>66064.177434</td>\n",
       "      <td>0.646441</td>\n",
       "      <td>1.462570e+07</td>\n",
       "      <td>3.982332e+07</td>\n",
       "      <td>102.070863</td>\n",
       "      <td>217.389748</td>\n",
       "      <td>5.974922</td>\n",
       "      <td>2001.322658</td>\n",
       "      <td>1.755104e+07</td>\n",
       "      <td>5.136436e+07</td>\n",
       "    </tr>\n",
       "    <tr>\n",
       "      <th>std</th>\n",
       "      <td>92130.136561</td>\n",
       "      <td>1.000185</td>\n",
       "      <td>3.091321e+07</td>\n",
       "      <td>1.170035e+08</td>\n",
       "      <td>31.381405</td>\n",
       "      <td>575.619058</td>\n",
       "      <td>0.935142</td>\n",
       "      <td>12.812941</td>\n",
       "      <td>3.430616e+07</td>\n",
       "      <td>1.446325e+08</td>\n",
       "    </tr>\n",
       "    <tr>\n",
       "      <th>min</th>\n",
       "      <td>5.000000</td>\n",
       "      <td>0.000065</td>\n",
       "      <td>0.000000e+00</td>\n",
       "      <td>0.000000e+00</td>\n",
       "      <td>0.000000</td>\n",
       "      <td>10.000000</td>\n",
       "      <td>1.500000</td>\n",
       "      <td>1960.000000</td>\n",
       "      <td>0.000000e+00</td>\n",
       "      <td>0.000000e+00</td>\n",
       "    </tr>\n",
       "    <tr>\n",
       "      <th>25%</th>\n",
       "      <td>10596.250000</td>\n",
       "      <td>0.207583</td>\n",
       "      <td>0.000000e+00</td>\n",
       "      <td>0.000000e+00</td>\n",
       "      <td>90.000000</td>\n",
       "      <td>17.000000</td>\n",
       "      <td>5.400000</td>\n",
       "      <td>1995.000000</td>\n",
       "      <td>0.000000e+00</td>\n",
       "      <td>0.000000e+00</td>\n",
       "    </tr>\n",
       "    <tr>\n",
       "      <th>50%</th>\n",
       "      <td>20669.000000</td>\n",
       "      <td>0.383856</td>\n",
       "      <td>0.000000e+00</td>\n",
       "      <td>0.000000e+00</td>\n",
       "      <td>99.000000</td>\n",
       "      <td>38.000000</td>\n",
       "      <td>6.000000</td>\n",
       "      <td>2006.000000</td>\n",
       "      <td>0.000000e+00</td>\n",
       "      <td>0.000000e+00</td>\n",
       "    </tr>\n",
       "    <tr>\n",
       "      <th>75%</th>\n",
       "      <td>75610.000000</td>\n",
       "      <td>0.713817</td>\n",
       "      <td>1.500000e+07</td>\n",
       "      <td>2.400000e+07</td>\n",
       "      <td>111.000000</td>\n",
       "      <td>145.750000</td>\n",
       "      <td>6.600000</td>\n",
       "      <td>2011.000000</td>\n",
       "      <td>2.085325e+07</td>\n",
       "      <td>3.369710e+07</td>\n",
       "    </tr>\n",
       "    <tr>\n",
       "      <th>max</th>\n",
       "      <td>417859.000000</td>\n",
       "      <td>32.985763</td>\n",
       "      <td>4.250000e+08</td>\n",
       "      <td>2.781506e+09</td>\n",
       "      <td>900.000000</td>\n",
       "      <td>9767.000000</td>\n",
       "      <td>9.200000</td>\n",
       "      <td>2015.000000</td>\n",
       "      <td>4.250000e+08</td>\n",
       "      <td>2.827124e+09</td>\n",
       "    </tr>\n",
       "  </tbody>\n",
       "</table>\n",
       "</div>"
      ],
      "text/plain": [
       "                  id    popularity        budget       revenue       runtime  \\\n",
       "count   10866.000000  10866.000000  1.086600e+04  1.086600e+04  10866.000000   \n",
       "mean    66064.177434      0.646441  1.462570e+07  3.982332e+07    102.070863   \n",
       "std     92130.136561      1.000185  3.091321e+07  1.170035e+08     31.381405   \n",
       "min         5.000000      0.000065  0.000000e+00  0.000000e+00      0.000000   \n",
       "25%     10596.250000      0.207583  0.000000e+00  0.000000e+00     90.000000   \n",
       "50%     20669.000000      0.383856  0.000000e+00  0.000000e+00     99.000000   \n",
       "75%     75610.000000      0.713817  1.500000e+07  2.400000e+07    111.000000   \n",
       "max    417859.000000     32.985763  4.250000e+08  2.781506e+09    900.000000   \n",
       "\n",
       "         vote_count  vote_average  release_year    budget_adj   revenue_adj  \n",
       "count  10866.000000  10866.000000  10866.000000  1.086600e+04  1.086600e+04  \n",
       "mean     217.389748      5.974922   2001.322658  1.755104e+07  5.136436e+07  \n",
       "std      575.619058      0.935142     12.812941  3.430616e+07  1.446325e+08  \n",
       "min       10.000000      1.500000   1960.000000  0.000000e+00  0.000000e+00  \n",
       "25%       17.000000      5.400000   1995.000000  0.000000e+00  0.000000e+00  \n",
       "50%       38.000000      6.000000   2006.000000  0.000000e+00  0.000000e+00  \n",
       "75%      145.750000      6.600000   2011.000000  2.085325e+07  3.369710e+07  \n",
       "max     9767.000000      9.200000   2015.000000  4.250000e+08  2.827124e+09  "
      ]
     },
     "execution_count": 390,
     "metadata": {},
     "output_type": "execute_result"
    }
   ],
   "source": [
    "df.describe() \n",
    "#From here one can see, the popularity contains some outliers such 32.99, since the 50% of the values are around 0.4. \n",
    "#Budget_adj, Revenue_adj, Runtime contains zero values for some rows. \n",
    "#The release year is between 1960 till 2015.\n"
   ]
  },
  {
   "cell_type": "code",
   "execution_count": 391,
   "metadata": {},
   "outputs": [
    {
     "name": "stdout",
     "output_type": "stream",
     "text": [
      "<class 'pandas.core.frame.DataFrame'>\n",
      "RangeIndex: 10866 entries, 0 to 10865\n",
      "Data columns (total 21 columns):\n",
      "id                      10866 non-null int64\n",
      "imdb_id                 10856 non-null object\n",
      "popularity              10866 non-null float64\n",
      "budget                  10866 non-null int64\n",
      "revenue                 10866 non-null int64\n",
      "original_title          10866 non-null object\n",
      "cast                    10790 non-null object\n",
      "homepage                2936 non-null object\n",
      "director                10822 non-null object\n",
      "tagline                 8042 non-null object\n",
      "keywords                9373 non-null object\n",
      "overview                10862 non-null object\n",
      "runtime                 10866 non-null int64\n",
      "genres                  10843 non-null object\n",
      "production_companies    9836 non-null object\n",
      "release_date            10866 non-null object\n",
      "vote_count              10866 non-null int64\n",
      "vote_average            10866 non-null float64\n",
      "release_year            10866 non-null int64\n",
      "budget_adj              10866 non-null float64\n",
      "revenue_adj             10866 non-null float64\n",
      "dtypes: float64(4), int64(6), object(11)\n",
      "memory usage: 1.7+ MB\n"
     ]
    }
   ],
   "source": [
    "df.info() \n",
    "#The null values exist in many columns. Some columns such as homepage and tagline are not important, \n",
    "#while cast, director, genre are important columns."
   ]
  },
  {
   "cell_type": "markdown",
   "metadata": {},
   "source": [
    "<a id='clean'></a>\n",
    "## Data Cleaning \n"
   ]
  },
  {
   "cell_type": "raw",
   "metadata": {},
   "source": [
    "\n",
    "In order to clean movie data, following tasks will be conducted.\n",
    "1) Drop unnecessary columns\n",
    "2) Changing format of budget and revenue column from float to int\n",
    "3) Drop Duplicates\n",
    "4) Drop null values from cast, director and genres columns\n",
    "5) Replace zero with NAN in 'budget_adj','revenue_adj','runtime' columns\n",
    "6) Drop null values from 'runtime' column"
   ]
  },
  {
   "cell_type": "code",
   "execution_count": 392,
   "metadata": {},
   "outputs": [
    {
     "data": {
      "text/html": [
       "<div>\n",
       "<style>\n",
       "    .dataframe thead tr:only-child th {\n",
       "        text-align: right;\n",
       "    }\n",
       "\n",
       "    .dataframe thead th {\n",
       "        text-align: left;\n",
       "    }\n",
       "\n",
       "    .dataframe tbody tr th {\n",
       "        vertical-align: top;\n",
       "    }\n",
       "</style>\n",
       "<table border=\"1\" class=\"dataframe\">\n",
       "  <thead>\n",
       "    <tr style=\"text-align: right;\">\n",
       "      <th></th>\n",
       "      <th>popularity</th>\n",
       "      <th>original_title</th>\n",
       "      <th>cast</th>\n",
       "      <th>director</th>\n",
       "      <th>runtime</th>\n",
       "      <th>genres</th>\n",
       "      <th>production_companies</th>\n",
       "      <th>release_date</th>\n",
       "      <th>vote_count</th>\n",
       "      <th>vote_average</th>\n",
       "      <th>release_year</th>\n",
       "      <th>budget_adj</th>\n",
       "      <th>revenue_adj</th>\n",
       "    </tr>\n",
       "  </thead>\n",
       "  <tbody>\n",
       "    <tr>\n",
       "      <th>0</th>\n",
       "      <td>32.985763</td>\n",
       "      <td>Jurassic World</td>\n",
       "      <td>Chris Pratt|Bryce Dallas Howard|Irrfan Khan|Vi...</td>\n",
       "      <td>Colin Trevorrow</td>\n",
       "      <td>124</td>\n",
       "      <td>Action|Adventure|Science Fiction|Thriller</td>\n",
       "      <td>Universal Studios|Amblin Entertainment|Legenda...</td>\n",
       "      <td>2006-09-15</td>\n",
       "      <td>5562</td>\n",
       "      <td>6.5</td>\n",
       "      <td>2015</td>\n",
       "      <td>137999939.3</td>\n",
       "      <td>1.392446e+09</td>\n",
       "    </tr>\n",
       "  </tbody>\n",
       "</table>\n",
       "</div>"
      ],
      "text/plain": [
       "   popularity  original_title  \\\n",
       "0   32.985763  Jurassic World   \n",
       "\n",
       "                                                cast         director  \\\n",
       "0  Chris Pratt|Bryce Dallas Howard|Irrfan Khan|Vi...  Colin Trevorrow   \n",
       "\n",
       "   runtime                                     genres  \\\n",
       "0      124  Action|Adventure|Science Fiction|Thriller   \n",
       "\n",
       "                                production_companies release_date  vote_count  \\\n",
       "0  Universal Studios|Amblin Entertainment|Legenda...   2006-09-15        5562   \n",
       "\n",
       "   vote_average  release_year   budget_adj   revenue_adj  \n",
       "0           6.5          2015  137999939.3  1.392446e+09  "
      ]
     },
     "execution_count": 392,
     "metadata": {},
     "output_type": "execute_result"
    }
   ],
   "source": [
    "#Data Cleaning Task #1: First, we need to get rid of unnecessary columns.\n",
    "#Please note, budget and renevue columns are deleted but budget_adj and revenue_adj are kept. \n",
    "#This is because later options have adjusted considering inflation. \n",
    "#So when comparing data from 1930 with 2000, both exhibit the same matrics.\n",
    "\n",
    "unused_col=[ 'id', 'imdb_id', 'budget','revenue', 'tagline','homepage', 'keywords', 'overview']\n",
    "df.drop(unused_col,axis=1,inplace=True)\n",
    "df.head(1)\n"
   ]
  },
  {
   "cell_type": "code",
   "execution_count": 393,
   "metadata": {},
   "outputs": [
    {
     "data": {
      "text/plain": [
       "budget_adj     int64\n",
       "revenue_adj    int64\n",
       "dtype: object"
      ]
     },
     "execution_count": 393,
     "metadata": {},
     "output_type": "execute_result"
    }
   ],
   "source": [
    "#Data Cleaning Task 2: Changing format of budget and revenue column from float to int.\n",
    "change_type = ['budget_adj','revenue_adj']\n",
    "df[change_type]=df[change_type].astype(np.int64)\n",
    "df[change_type].dtypes"
   ]
  },
  {
   "cell_type": "code",
   "execution_count": 394,
   "metadata": {},
   "outputs": [
    {
     "data": {
      "text/plain": [
       "(10865, 13)"
      ]
     },
     "execution_count": 394,
     "metadata": {},
     "output_type": "execute_result"
    }
   ],
   "source": [
    "#Data Cleaning Task 3: Let's check if there are any rows with duplicate values.\n",
    "df.duplicated().sum()\n",
    "#There is one row with duplicate values. Let's drop that row.\n",
    "df.drop_duplicates(keep='first', inplace=True)\n",
    "df.shape"
   ]
  },
  {
   "cell_type": "code",
   "execution_count": 395,
   "metadata": {},
   "outputs": [
    {
     "data": {
      "text/plain": [
       "popularity                0\n",
       "original_title            0\n",
       "cast                      0\n",
       "director                  0\n",
       "runtime                   0\n",
       "genres                    0\n",
       "production_companies    959\n",
       "release_date              0\n",
       "vote_count                0\n",
       "vote_average              0\n",
       "release_year              0\n",
       "budget_adj                0\n",
       "revenue_adj               0\n",
       "dtype: int64"
      ]
     },
     "execution_count": 395,
     "metadata": {},
     "output_type": "execute_result"
    }
   ],
   "source": [
    "#From our data wrangling step, we noticed, columns with string values such as 'cast', 'director' \n",
    "#and 'genres' contain null values. And there are only few rows of them. \n",
    "#Therefore, it is best to drop them.\n",
    "#Data Cleaning Task 4: Drop null values in columns (cast, director, genres)\n",
    "\n",
    "null_drop_columns = ['cast','director','genres']\n",
    "\n",
    "df.dropna(subset=[null_drop_columns],inplace=True)\n",
    "\n",
    "df.isnull().sum()"
   ]
  },
  {
   "cell_type": "code",
   "execution_count": 396,
   "metadata": {},
   "outputs": [
    {
     "data": {
      "text/html": [
       "<div>\n",
       "<style>\n",
       "    .dataframe thead tr:only-child th {\n",
       "        text-align: right;\n",
       "    }\n",
       "\n",
       "    .dataframe thead th {\n",
       "        text-align: left;\n",
       "    }\n",
       "\n",
       "    .dataframe tbody tr th {\n",
       "        vertical-align: top;\n",
       "    }\n",
       "</style>\n",
       "<table border=\"1\" class=\"dataframe\">\n",
       "  <thead>\n",
       "    <tr style=\"text-align: right;\">\n",
       "      <th></th>\n",
       "      <th>popularity</th>\n",
       "      <th>runtime</th>\n",
       "      <th>vote_count</th>\n",
       "      <th>vote_average</th>\n",
       "      <th>release_year</th>\n",
       "      <th>budget_adj</th>\n",
       "      <th>revenue_adj</th>\n",
       "    </tr>\n",
       "  </thead>\n",
       "  <tbody>\n",
       "    <tr>\n",
       "      <th>count</th>\n",
       "      <td>10731.000000</td>\n",
       "      <td>10731.000000</td>\n",
       "      <td>10731.000000</td>\n",
       "      <td>10731.000000</td>\n",
       "      <td>10731.000000</td>\n",
       "      <td>1.073100e+04</td>\n",
       "      <td>1.073100e+04</td>\n",
       "    </tr>\n",
       "    <tr>\n",
       "      <th>mean</th>\n",
       "      <td>0.652615</td>\n",
       "      <td>102.468829</td>\n",
       "      <td>219.812972</td>\n",
       "      <td>5.964710</td>\n",
       "      <td>2001.259622</td>\n",
       "      <td>1.776530e+07</td>\n",
       "      <td>5.200623e+07</td>\n",
       "    </tr>\n",
       "    <tr>\n",
       "      <th>std</th>\n",
       "      <td>1.004804</td>\n",
       "      <td>30.493873</td>\n",
       "      <td>578.815324</td>\n",
       "      <td>0.930283</td>\n",
       "      <td>12.820151</td>\n",
       "      <td>3.446630e+07</td>\n",
       "      <td>1.454252e+08</td>\n",
       "    </tr>\n",
       "    <tr>\n",
       "      <th>min</th>\n",
       "      <td>0.000188</td>\n",
       "      <td>0.000000</td>\n",
       "      <td>10.000000</td>\n",
       "      <td>1.500000</td>\n",
       "      <td>1960.000000</td>\n",
       "      <td>0.000000e+00</td>\n",
       "      <td>0.000000e+00</td>\n",
       "    </tr>\n",
       "    <tr>\n",
       "      <th>25%</th>\n",
       "      <td>0.210765</td>\n",
       "      <td>90.000000</td>\n",
       "      <td>17.000000</td>\n",
       "      <td>5.400000</td>\n",
       "      <td>1995.000000</td>\n",
       "      <td>0.000000e+00</td>\n",
       "      <td>0.000000e+00</td>\n",
       "    </tr>\n",
       "    <tr>\n",
       "      <th>50%</th>\n",
       "      <td>0.387081</td>\n",
       "      <td>99.000000</td>\n",
       "      <td>39.000000</td>\n",
       "      <td>6.000000</td>\n",
       "      <td>2006.000000</td>\n",
       "      <td>0.000000e+00</td>\n",
       "      <td>0.000000e+00</td>\n",
       "    </tr>\n",
       "    <tr>\n",
       "      <th>75%</th>\n",
       "      <td>0.720889</td>\n",
       "      <td>112.000000</td>\n",
       "      <td>148.000000</td>\n",
       "      <td>6.600000</td>\n",
       "      <td>2011.000000</td>\n",
       "      <td>2.110885e+07</td>\n",
       "      <td>3.470546e+07</td>\n",
       "    </tr>\n",
       "    <tr>\n",
       "      <th>max</th>\n",
       "      <td>32.985763</td>\n",
       "      <td>900.000000</td>\n",
       "      <td>9767.000000</td>\n",
       "      <td>9.200000</td>\n",
       "      <td>2015.000000</td>\n",
       "      <td>4.250000e+08</td>\n",
       "      <td>2.827124e+09</td>\n",
       "    </tr>\n",
       "  </tbody>\n",
       "</table>\n",
       "</div>"
      ],
      "text/plain": [
       "         popularity       runtime    vote_count  vote_average  release_year  \\\n",
       "count  10731.000000  10731.000000  10731.000000  10731.000000  10731.000000   \n",
       "mean       0.652615    102.468829    219.812972      5.964710   2001.259622   \n",
       "std        1.004804     30.493873    578.815324      0.930283     12.820151   \n",
       "min        0.000188      0.000000     10.000000      1.500000   1960.000000   \n",
       "25%        0.210765     90.000000     17.000000      5.400000   1995.000000   \n",
       "50%        0.387081     99.000000     39.000000      6.000000   2006.000000   \n",
       "75%        0.720889    112.000000    148.000000      6.600000   2011.000000   \n",
       "max       32.985763    900.000000   9767.000000      9.200000   2015.000000   \n",
       "\n",
       "         budget_adj   revenue_adj  \n",
       "count  1.073100e+04  1.073100e+04  \n",
       "mean   1.776530e+07  5.200623e+07  \n",
       "std    3.446630e+07  1.454252e+08  \n",
       "min    0.000000e+00  0.000000e+00  \n",
       "25%    0.000000e+00  0.000000e+00  \n",
       "50%    0.000000e+00  0.000000e+00  \n",
       "75%    2.110885e+07  3.470546e+07  \n",
       "max    4.250000e+08  2.827124e+09  "
      ]
     },
     "execution_count": 396,
     "metadata": {},
     "output_type": "execute_result"
    }
   ],
   "source": [
    "#Data Cleaning Task 5: Replace zero with NAN in 'budget_adj','revenue_adj','runtime' columns\n",
    "\n",
    "df.describe()\n",
    "#Here one can notice, there are some movies with 0 budget, 0 revenue and 0 runtime. Let's explore this.\n"
   ]
  },
  {
   "cell_type": "code",
   "execution_count": 397,
   "metadata": {},
   "outputs": [
    {
     "data": {
      "text/plain": [
       "((5580, 13), (5888, 13), (28, 13))"
      ]
     },
     "execution_count": 397,
     "metadata": {},
     "output_type": "execute_result"
    }
   ],
   "source": [
    "df_budget_zero = df.query('budget_adj == 0')\n",
    "df_revenue_zero = df.query('revenue_adj==0')\n",
    "df_runtime_zero = df.query('runtime==0')\n",
    "\n",
    "df_budget_zero.shape, df_revenue_zero.shape, df_runtime_zero.shape\n",
    "\n",
    "#One can notice, there are many rows with zero budget, zero revenue but few zero runtime values.\n",
    "#If we keep them as zero, then it would affect our numerical statistics.\n",
    "#Therefore, it would be better to rplae all the values from '0' to NAN in the list.\n"
   ]
  },
  {
   "cell_type": "code",
   "execution_count": 398,
   "metadata": {},
   "outputs": [
    {
     "data": {
      "text/plain": [
       "(10703, 13)"
      ]
     },
     "execution_count": 398,
     "metadata": {},
     "output_type": "execute_result"
    }
   ],
   "source": [
    "#Here, we will replae all the values in budget_adj, revenue_adj and runtime from '0' to NAN in the list.\n",
    "#But for runtime_zero, we can drop them.\n",
    "\n",
    "df['budget_adj']= df['budget_adj'].replace(0,np.NAN)\n",
    "df['revenue_adj']=df['revenue_adj'].replace(0,np.NAN)\n",
    "df['runtime']=df['runtime'].replace(0,np.NAN)\n",
    "\n",
    "#Data Cleaning Task 6: Drop null values from 'runtime' column\n",
    "df.dropna(subset=['runtime'],inplace=True)\n",
    "\n",
    "df.shape\n"
   ]
  },
  {
   "cell_type": "markdown",
   "metadata": {},
   "source": [
    "<a id='eda'></a>\n",
    "## Exploratory Data Analysis\n",
    "\n",
    "### Research Question 1: Relationship among dependent variables"
   ]
  },
  {
   "cell_type": "code",
   "execution_count": 399,
   "metadata": {},
   "outputs": [
    {
     "data": {
      "text/plain": [
       "Text(0.5,1,'Popularity vs Revenue Levels')"
      ]
     },
     "execution_count": 399,
     "metadata": {},
     "output_type": "execute_result"
    },
    {
     "data": {
      "image/png": "[encoded data removed]",
      "text/plain": [
       "<matplotlib.figure.Figure at 0x7f754f27ea90>"
      ]
     },
     "metadata": {},
     "output_type": "display_data"
    }
   ],
   "source": [
    "#There are about 10,000 data points. It is not possible to find clear trend if we use 10,000 data points directly.\n",
    "#Therefore, either we brake down data points into different groups or just look at 100 Top movies and 100 Worst movies.\n",
    "#Dependent variables are revenue_adj, popularity, and vote average. Independent variables are Runtime, Budget_adj, Cast, Director,\n",
    "#Genre, production companies and movie titles.\n",
    "\n",
    "#We will start with exploring relationship among the dependent variables.\n",
    "\n",
    "# quartile function\n",
    "def cut_into_quantile(dfname ,column_name):\n",
    "# find quartile, max and min values\n",
    "    min_value = dfname[column_name].min()\n",
    "    first_quantile = dfname[column_name].describe()[4]\n",
    "    second_quantile = dfname[column_name].describe()[5]\n",
    "    third_quantile = dfname[column_name].describe()[6]\n",
    "    max_value = dfname[column_name].max()\n",
    "# Bin edges that will be used to \"cut\" the data into groups\n",
    "    bin_edges = [ min_value, first_quantile, second_quantile, third_quantile, max_value]\n",
    "# Labels for the four budget level groups\n",
    "    bin_names = [ 'Low', 'Medium', 'Moderately High', 'High'] \n",
    "# Creates budget_levels column\n",
    "    name = '{}_levels'.format(column_name)\n",
    "    dfname[name] = pd.cut(dfname[column_name], bin_edges, labels=bin_names, include_lowest = True)\n",
    "    return dfname\n",
    "\n",
    "\n",
    "cut_into_quantile(df,'revenue_adj')\n",
    "\n",
    "df.groupby('revenue_adj_levels')['popularity'].mean().plot(kind='bar')\n",
    "\n",
    "plt.xlabel('revenue levels',fontsize=18)\n",
    "plt.ylabel('popularity',fontsize=18)\n",
    "plt.title('Popularity vs Revenue Levels',fontsize=18 )\n",
    "\n",
    "#This shows that popularity is directly proportional to revenue."
   ]
  },
  {
   "cell_type": "code",
   "execution_count": 400,
   "metadata": {},
   "outputs": [
    {
     "data": {
      "text/plain": [
       "Text(0.5,1,'Vote Average vs Revenue Levels')"
      ]
     },
     "execution_count": 400,
     "metadata": {},
     "output_type": "execute_result"
    },
    {
     "data": {
      "image/png": "[encoded data removed]",
      "text/plain": [
       "<matplotlib.figure.Figure at 0x7f754f267a20>"
      ]
     },
     "metadata": {},
     "output_type": "display_data"
    }
   ],
   "source": [
    "df.groupby('revenue_adj_levels')['vote_average'].mean().plot(kind='bar')\n",
    "\n",
    "plt.xlabel('revenue levels',fontsize=18)\n",
    "plt.ylabel('vote average',fontsize=18)\n",
    "plt.title('Vote Average vs Revenue Levels', fontsize=18)\n",
    "\n",
    "#There is no clear trend between vote average and revenue."
   ]
  },
  {
   "cell_type": "markdown",
   "metadata": {},
   "source": [
    "### Research Question 2: Impact of Budget on Dependent Variables"
   ]
  },
  {
   "cell_type": "code",
   "execution_count": 401,
   "metadata": {},
   "outputs": [
    {
     "data": {
      "text/plain": [
       "Text(0.5,1,'Popularity vs Budget')"
      ]
     },
     "execution_count": 401,
     "metadata": {},
     "output_type": "execute_result"
    },
    {
     "data": {
      "image/png": "[encoded data removed]",
      "text/plain": [
       "<matplotlib.figure.Figure at 0x7f754ff15320>"
      ]
     },
     "metadata": {},
     "output_type": "display_data"
    }
   ],
   "source": [
    "#Here we will explore the impact of budget on dependent variables such as popularity, revenue, and vote average.\n",
    "# quartile function\n",
    "\n",
    "cut_into_quantile(df,'budget_adj')\n",
    "\n",
    "df.groupby('budget_adj_levels')['popularity'].mean().plot(kind='bar')\n",
    "\n",
    "plt.xlabel('budget levels',fontsize=18)\n",
    "plt.ylabel('popularity',fontsize=18)\n",
    "plt.title('Popularity vs Budget')\n",
    "\n",
    "#Conclusion:\n",
    "#This shows that popularity is directly proportional to budget.\n",
    "#Higher the budget of the movie means more popular the movie will be.\n",
    "\n"
   ]
  },
  {
   "cell_type": "code",
   "execution_count": 402,
   "metadata": {},
   "outputs": [
    {
     "data": {
      "text/plain": [
       "Text(0.5,1,'Net Profit vs Budget')"
      ]
     },
     "execution_count": 402,
     "metadata": {},
     "output_type": "execute_result"
    },
    {
     "data": {
      "image/png": "[encoded data removed]",
      "text/plain": [
       "<matplotlib.figure.Figure at 0x7f754fe106d8>"
      ]
     },
     "metadata": {},
     "output_type": "display_data"
    }
   ],
   "source": [
    "df['net_profit']=df['revenue_adj']-df['budget_adj']\n",
    "df.groupby('budget_adj_levels')['net_profit'].mean().plot(kind='bar')\n",
    "\n",
    "plt.xlabel('budget levels',fontsize=18)\n",
    "plt.ylabel('net profit',fontsize=18)\n",
    "plt.title('Net Profit vs Budget')\n",
    "\n",
    "#The budget has strong impact on net profit of the movie.\n",
    "#The highet the budget of the movie, the more net profit is."
   ]
  },
  {
   "cell_type": "code",
   "execution_count": 403,
   "metadata": {},
   "outputs": [
    {
     "data": {
      "text/plain": [
       "Text(0.5,1,'vote average vs Budget')"
      ]
     },
     "execution_count": 403,
     "metadata": {},
     "output_type": "execute_result"
    },
    {
     "data": {
      "image/png": "[encoded data removed]",
      "text/plain": [
       "<matplotlib.figure.Figure at 0x7f754fe36a90>"
      ]
     },
     "metadata": {},
     "output_type": "display_data"
    }
   ],
   "source": [
    "df.groupby('budget_adj_levels')['vote_average'].mean().plot(kind='bar')\n",
    "\n",
    "plt.xlabel('budget levels',fontsize=18)\n",
    "plt.ylabel('vote average',fontsize=18)\n",
    "plt.title('vote average vs Budget')\n",
    "\n",
    "#The budget has no impact on the vote average."
   ]
  },
  {
   "cell_type": "markdown",
   "metadata": {},
   "source": [
    "### Research Question 3: Impact of Runtime on Popularity,Net Profit and Vote Average "
   ]
  },
  {
   "cell_type": "code",
   "execution_count": 404,
   "metadata": {},
   "outputs": [
    {
     "data": {
      "text/plain": [
       "Text(0.5,1,'Popularity vs Runtime')"
      ]
     },
     "execution_count": 404,
     "metadata": {},
     "output_type": "execute_result"
    },
    {
     "data": {
      "image/png": "[encoded data removed]",
      "text/plain": [
       "<matplotlib.figure.Figure at 0x7f754fda60b8>"
      ]
     },
     "metadata": {},
     "output_type": "display_data"
    }
   ],
   "source": [
    "#Here we will explore the impact of Runtime on dependent variables such as popularity, revenue, and vote average.\n",
    "# quartile function\n",
    "cut_into_quantile(df,'runtime')\n",
    "\n",
    "df.groupby('runtime_levels')['popularity'].mean().plot(kind='bar')\n",
    "\n",
    "plt.xlabel('runtime levels',fontsize=18)\n",
    "plt.ylabel('popularity',fontsize=18)\n",
    "plt.title('Popularity vs Runtime')\n",
    "\n",
    "#Conclusion:\n",
    "#This shows that popularity is directly proportional to runtime.\n",
    "#Longer the movie means more popular the movie will be.\n"
   ]
  },
  {
   "cell_type": "code",
   "execution_count": 405,
   "metadata": {},
   "outputs": [
    {
     "data": {
      "text/plain": [
       "count    10703.000000\n",
       "mean       102.736896\n",
       "std         30.079331\n",
       "min          3.000000\n",
       "25%         90.000000\n",
       "50%         99.000000\n",
       "75%        112.000000\n",
       "max        900.000000\n",
       "Name: runtime, dtype: float64"
      ]
     },
     "execution_count": 405,
     "metadata": {},
     "output_type": "execute_result"
    },
    {
     "data": {
      "image/png": "[encoded data removed]",
      "text/plain": [
       "<matplotlib.figure.Figure at 0x7f7554637be0>"
      ]
     },
     "metadata": {},
     "output_type": "display_data"
    }
   ],
   "source": [
    "df.groupby('runtime_levels')['net_profit'].mean().plot(kind='bar')\n",
    "\n",
    "plt.xlabel('runtime levels',fontsize=18)\n",
    "plt.ylabel('net profit',fontsize=18)\n",
    "plt.title('Net Profit vs Runtime')\n",
    "\n",
    "df['runtime'].describe()\n",
    "\n",
    "#The movies with runtime from 5 mins till 112 mins, seem to exhibit similar net profit.\n",
    "#However, the movie with runtime from 112 mins till 900 mins, exhibit the highest net profit.\n",
    "#From here, one can coclude that to ensure higher net profit, the runtime of the movie should atleast be 112 minutes.\n"
   ]
  },
  {
   "cell_type": "code",
   "execution_count": 406,
   "metadata": {},
   "outputs": [
    {
     "data": {
      "text/plain": [
       "runtime_levels\n",
       "Low                5.726425\n",
       "Medium             5.724355\n",
       "Moderately High    6.044946\n",
       "High               6.401297\n",
       "Name: vote_average, dtype: float64"
      ]
     },
     "execution_count": 406,
     "metadata": {},
     "output_type": "execute_result"
    },
    {
     "data": {
      "image/png": "[encoded data removed]",
      "text/plain": [
       "<matplotlib.figure.Figure at 0x7f755c3f4978>"
      ]
     },
     "metadata": {},
     "output_type": "display_data"
    }
   ],
   "source": [
    "df.groupby('runtime_levels')['vote_average'].mean().plot(kind='bar')\n",
    "\n",
    "plt.xlabel('runtime levels',fontsize=18)\n",
    "plt.ylabel('vote average',fontsize=18)\n",
    "plt.title('Vote Average vs Run Time')\n",
    "\n",
    "df.groupby('runtime_levels')['vote_average'].mean()\n",
    "\n",
    "#The runtime levels does have a positive impact on the vote average.\n",
    "#However, the impact is relatively small, \n",
    "#meaning the difference between the lowest runtime and highest runtime has only the vote average difference of 0.9."
   ]
  },
  {
   "cell_type": "markdown",
   "metadata": {},
   "source": [
    "### Research Question 4: Best 5 and Worst 5 Cast, Directors, Genres, Producers, based on Net Profit, Popularity and Vote Average"
   ]
  },
  {
   "cell_type": "code",
   "execution_count": 407,
   "metadata": {},
   "outputs": [
    {
     "data": {
      "text/html": [
       "<div>\n",
       "<style>\n",
       "    .dataframe thead tr:only-child th {\n",
       "        text-align: right;\n",
       "    }\n",
       "\n",
       "    .dataframe thead th {\n",
       "        text-align: left;\n",
       "    }\n",
       "\n",
       "    .dataframe tbody tr th {\n",
       "        vertical-align: top;\n",
       "    }\n",
       "</style>\n",
       "<table border=\"1\" class=\"dataframe\">\n",
       "  <thead>\n",
       "    <tr style=\"text-align: right;\">\n",
       "      <th></th>\n",
       "      <th>popularity</th>\n",
       "      <th>original_title</th>\n",
       "      <th>cast</th>\n",
       "      <th>director</th>\n",
       "      <th>runtime</th>\n",
       "      <th>genres</th>\n",
       "      <th>production_companies</th>\n",
       "      <th>release_date</th>\n",
       "      <th>vote_count</th>\n",
       "      <th>vote_average</th>\n",
       "      <th>release_year</th>\n",
       "      <th>budget_adj</th>\n",
       "      <th>revenue_adj</th>\n",
       "      <th>revenue_adj_levels</th>\n",
       "      <th>budget_adj_levels</th>\n",
       "      <th>net_profit</th>\n",
       "      <th>runtime_levels</th>\n",
       "      <th>net_profit_levels</th>\n",
       "      <th>popularity_levels</th>\n",
       "      <th>vote_average_levels</th>\n",
       "    </tr>\n",
       "  </thead>\n",
       "  <tbody>\n",
       "    <tr>\n",
       "      <th>0</th>\n",
       "      <td>32.985763</td>\n",
       "      <td>Jurassic World</td>\n",
       "      <td>Chris Pratt|Bryce Dallas Howard|Irrfan Khan|Vi...</td>\n",
       "      <td>Colin Trevorrow</td>\n",
       "      <td>124.0</td>\n",
       "      <td>Action|Adventure|Science Fiction|Thriller</td>\n",
       "      <td>Universal Studios|Amblin Entertainment|Legenda...</td>\n",
       "      <td>2006-09-15</td>\n",
       "      <td>5562</td>\n",
       "      <td>6.5</td>\n",
       "      <td>2015</td>\n",
       "      <td>137999939.0</td>\n",
       "      <td>1.392446e+09</td>\n",
       "      <td>High</td>\n",
       "      <td>High</td>\n",
       "      <td>1.254446e+09</td>\n",
       "      <td>High</td>\n",
       "      <td>High</td>\n",
       "      <td>High</td>\n",
       "      <td>Moderately High</td>\n",
       "    </tr>\n",
       "  </tbody>\n",
       "</table>\n",
       "</div>"
      ],
      "text/plain": [
       "   popularity  original_title  \\\n",
       "0   32.985763  Jurassic World   \n",
       "\n",
       "                                                cast         director  \\\n",
       "0  Chris Pratt|Bryce Dallas Howard|Irrfan Khan|Vi...  Colin Trevorrow   \n",
       "\n",
       "   runtime                                     genres  \\\n",
       "0    124.0  Action|Adventure|Science Fiction|Thriller   \n",
       "\n",
       "                                production_companies release_date  vote_count  \\\n",
       "0  Universal Studios|Amblin Entertainment|Legenda...   2006-09-15        5562   \n",
       "\n",
       "   vote_average  release_year   budget_adj   revenue_adj revenue_adj_levels  \\\n",
       "0           6.5          2015  137999939.0  1.392446e+09               High   \n",
       "\n",
       "  budget_adj_levels    net_profit runtime_levels net_profit_levels  \\\n",
       "0              High  1.254446e+09           High              High   \n",
       "\n",
       "  popularity_levels vote_average_levels  \n",
       "0              High     Moderately High  "
      ]
     },
     "execution_count": 407,
     "metadata": {},
     "output_type": "execute_result"
    }
   ],
   "source": [
    "#First, we will divide net profit, popularity, vote_average into four quarters. \n",
    "#This way, we can extract highest and lowest performing movies.\n",
    "\n",
    "cut_into_quantile(df,'net_profit').head(1)\n",
    "cut_into_quantile(df,'popularity').head(1)\n",
    "cut_into_quantile(df,'vote_average').head(1)\n"
   ]
  },
  {
   "cell_type": "code",
   "execution_count": 408,
   "metadata": {},
   "outputs": [],
   "source": [
    "#Best performing movies are filtered by \"High\" net_profit_level, \"High\" popularity level and \"High\" vote average level.\n",
    "df_np_high = df.query('net_profit_levels == \"High\" and popularity_levels == \"High\" and vote_average_levels==\"High\"')"
   ]
  },
  {
   "cell_type": "code",
   "execution_count": 409,
   "metadata": {},
   "outputs": [],
   "source": [
    "#Worst performing movies are filtered by \"Low\" net_profit_level, \"Low\" popularity level and \"Low\" vote average level.\n",
    "df_np_low = df.query('net_profit_levels == \"Low\" and popularity_levels == \"Low\" and vote_average_levels==\"Low\"')"
   ]
  },
  {
   "cell_type": "code",
   "execution_count": 410,
   "metadata": {},
   "outputs": [],
   "source": [
    "# split pipe characters and count their number of appeared times\n",
    "#argument:dataframe_col is the target dataframe&column; num is the number of the top factor\n",
    "def find_top(dataframe_col, num=5):\n",
    "    # split the characters in the input column \n",
    "    #and make it to a list\n",
    "    alist = dataframe_col.str.cat(sep='|').split('|')\n",
    "    #transfer it to a dataframe\n",
    "    new = pd.DataFrame({'top' :alist})\n",
    "    #count their number of appeared times and\n",
    "    #choose the top5\n",
    "    top = new['top'].value_counts().head(num)\n",
    "    return top"
   ]
  },
  {
   "cell_type": "code",
   "execution_count": 411,
   "metadata": {},
   "outputs": [],
   "source": [
    "#find top five cast\n",
    "a = find_top(df_np_high.cast)\n",
    "\n",
    "#find top five director\n",
    "b=find_top(df_np_high.director)\n",
    "\n",
    "#find top five genres\n",
    "c = find_top(df_np_high.genres)\n",
    "\n",
    "#find top five production companies\n",
    "d=find_top(df_np_high.production_companies)"
   ]
  },
  {
   "cell_type": "code",
   "execution_count": 412,
   "metadata": {},
   "outputs": [
    {
     "data": {
      "text/html": [
       "<div>\n",
       "<style>\n",
       "    .dataframe thead tr:only-child th {\n",
       "        text-align: right;\n",
       "    }\n",
       "\n",
       "    .dataframe thead th {\n",
       "        text-align: left;\n",
       "    }\n",
       "\n",
       "    .dataframe tbody tr th {\n",
       "        vertical-align: top;\n",
       "    }\n",
       "</style>\n",
       "<table border=\"1\" class=\"dataframe\">\n",
       "  <thead>\n",
       "    <tr style=\"text-align: right;\">\n",
       "      <th></th>\n",
       "      <th>popular_cast</th>\n",
       "      <th>popular_director</th>\n",
       "      <th>popular_genres</th>\n",
       "      <th>popular_producer</th>\n",
       "    </tr>\n",
       "  </thead>\n",
       "  <tbody>\n",
       "    <tr>\n",
       "      <th>0</th>\n",
       "      <td>Tom Hanks</td>\n",
       "      <td>Steven Spielberg</td>\n",
       "      <td>Drama</td>\n",
       "      <td>Warner Bros.</td>\n",
       "    </tr>\n",
       "    <tr>\n",
       "      <th>1</th>\n",
       "      <td>Brad Pitt</td>\n",
       "      <td>Clint Eastwood</td>\n",
       "      <td>Action</td>\n",
       "      <td>Universal Pictures</td>\n",
       "    </tr>\n",
       "    <tr>\n",
       "      <th>2</th>\n",
       "      <td>Tom Cruise</td>\n",
       "      <td>Robert Zemeckis</td>\n",
       "      <td>Adventure</td>\n",
       "      <td>Paramount Pictures</td>\n",
       "    </tr>\n",
       "    <tr>\n",
       "      <th>3</th>\n",
       "      <td>Leonardo DiCaprio</td>\n",
       "      <td>Quentin Tarantino</td>\n",
       "      <td>Thriller</td>\n",
       "      <td>Twentieth Century Fox Film Corporation</td>\n",
       "    </tr>\n",
       "    <tr>\n",
       "      <th>4</th>\n",
       "      <td>Harrison Ford</td>\n",
       "      <td>Peter Jackson</td>\n",
       "      <td>Comedy</td>\n",
       "      <td>Walt Disney Pictures</td>\n",
       "    </tr>\n",
       "  </tbody>\n",
       "</table>\n",
       "</div>"
      ],
      "text/plain": [
       "        popular_cast   popular_director popular_genres  \\\n",
       "0          Tom Hanks   Steven Spielberg          Drama   \n",
       "1          Brad Pitt     Clint Eastwood         Action   \n",
       "2         Tom Cruise    Robert Zemeckis      Adventure   \n",
       "3  Leonardo DiCaprio  Quentin Tarantino       Thriller   \n",
       "4      Harrison Ford      Peter Jackson         Comedy   \n",
       "\n",
       "                         popular_producer  \n",
       "0                            Warner Bros.  \n",
       "1                      Universal Pictures  \n",
       "2                      Paramount Pictures  \n",
       "3  Twentieth Century Fox Film Corporation  \n",
       "4                    Walt Disney Pictures  "
      ]
     },
     "execution_count": 412,
     "metadata": {},
     "output_type": "execute_result"
    }
   ],
   "source": [
    "df_popular = pd.DataFrame({'popular_cast': a.index, 'popular_director': b.index, 'popular_genres': c.index, 'popular_producer': d.index})\n",
    "df_popular"
   ]
  },
  {
   "cell_type": "code",
   "execution_count": 413,
   "metadata": {},
   "outputs": [],
   "source": [
    "#find worst five cast\n",
    "a_low = find_top(df_np_low.cast)\n",
    "\n",
    "#find worst five director\n",
    "b_low=find_top(df_np_low.director)\n",
    "\n",
    "#find worst five genres\n",
    "c_low = find_top(df_np_low.genres)\n",
    "\n",
    "#find worst five production companies\n",
    "d_low=find_top(df_np_low.production_companies)"
   ]
  },
  {
   "cell_type": "code",
   "execution_count": 414,
   "metadata": {},
   "outputs": [
    {
     "data": {
      "text/html": [
       "<div>\n",
       "<style>\n",
       "    .dataframe thead tr:only-child th {\n",
       "        text-align: right;\n",
       "    }\n",
       "\n",
       "    .dataframe thead th {\n",
       "        text-align: left;\n",
       "    }\n",
       "\n",
       "    .dataframe tbody tr th {\n",
       "        vertical-align: top;\n",
       "    }\n",
       "</style>\n",
       "<table border=\"1\" class=\"dataframe\">\n",
       "  <thead>\n",
       "    <tr style=\"text-align: right;\">\n",
       "      <th></th>\n",
       "      <th>unpopular_cast</th>\n",
       "      <th>unpopular_director</th>\n",
       "      <th>unpopular_genres</th>\n",
       "      <th>unpopular_producer</th>\n",
       "    </tr>\n",
       "  </thead>\n",
       "  <tbody>\n",
       "    <tr>\n",
       "      <th>0</th>\n",
       "      <td>Luke Wilson</td>\n",
       "      <td>Gary Goldman</td>\n",
       "      <td>Comedy</td>\n",
       "      <td>Warner Bros.</td>\n",
       "    </tr>\n",
       "    <tr>\n",
       "      <th>1</th>\n",
       "      <td>Tim Roth</td>\n",
       "      <td>David Chase</td>\n",
       "      <td>Drama</td>\n",
       "      <td>Franchise Pictures</td>\n",
       "    </tr>\n",
       "    <tr>\n",
       "      <th>2</th>\n",
       "      <td>Catherine O'Hara</td>\n",
       "      <td>Robert Iscove</td>\n",
       "      <td>Romance</td>\n",
       "      <td>Universal Pictures</td>\n",
       "    </tr>\n",
       "    <tr>\n",
       "      <th>3</th>\n",
       "      <td>Laraine Newman</td>\n",
       "      <td>Renny Harlin</td>\n",
       "      <td>Action</td>\n",
       "      <td>TriStar Pictures</td>\n",
       "    </tr>\n",
       "    <tr>\n",
       "      <th>4</th>\n",
       "      <td>Oliver Platt</td>\n",
       "      <td>Dick Maas</td>\n",
       "      <td>Thriller</td>\n",
       "      <td>20th Century Fox</td>\n",
       "    </tr>\n",
       "  </tbody>\n",
       "</table>\n",
       "</div>"
      ],
      "text/plain": [
       "     unpopular_cast unpopular_director unpopular_genres  unpopular_producer\n",
       "0       Luke Wilson       Gary Goldman           Comedy        Warner Bros.\n",
       "1          Tim Roth        David Chase            Drama  Franchise Pictures\n",
       "2  Catherine O'Hara      Robert Iscove          Romance  Universal Pictures\n",
       "3    Laraine Newman       Renny Harlin           Action    TriStar Pictures\n",
       "4      Oliver Platt          Dick Maas         Thriller    20th Century Fox"
      ]
     },
     "execution_count": 414,
     "metadata": {},
     "output_type": "execute_result"
    }
   ],
   "source": [
    "df_unpopular = pd.DataFrame({'unpopular_cast': a_low.index, 'unpopular_director': b_low.index, 'unpopular_genres': c_low.index, 'unpopular_producer': d_low.index})\n",
    "df_unpopular\n",
    "#please note that 20th Century Fox is same as Twentieth Century Fox Film Corporation."
   ]
  },
  {
   "cell_type": "raw",
   "metadata": {},
   "source": [
    "#Conclusion: From this analysis, we do not get clear results on genres and producer. Some genres and producers are found in both best and worst performing movies.\n",
    "\n",
    "#1) Cast: Tom Hanks, Brad Pitt, Leonardo DiCaprio, Tom Cruise, Samuel Jackson are present in the best performing movies. While Luke Wilson, Tim Roth, Catherine O'Hara, Laraine and Oliver Platt are present in the worst performing movies.\n",
    "\n",
    "#2) Director: Steven Spielberg, Clint Eastwood, Robert Zemeckis, Quentin Tarantino and Peter Jackson have directed the best performing movies.\n",
    "#While Gary Goldman, David Chase, Robert Iscove, Renny Harlin and Dick Maas have directed the worst performing movies.\n",
    "\n",
    "#3) Genres: It is unclear on specific genres that provide the best or worst performing movies. This is because Comedy, Drama, Action and Thriller Genres are present in both best and worst performing movies. While, Adventure Genre is one of the best genre, while Romance is one the worst genre.\n",
    "\n",
    "#4) Producers: Again, it is not very clear on producers, who produce best or worst movies. For example, Warner Bros, Universal Pictures and 20th Century Fox have produced both the best and worst performing movies. While, Paramount Pictures and Walt Disney have produced the best performing movies. Franchise Pictures and TriStar Pictures have produced the worst performing movies.\n"
   ]
  },
  {
   "cell_type": "markdown",
   "metadata": {},
   "source": [
    "### Research Question 5: Year of Release, impact on Popularity and Genre"
   ]
  },
  {
   "cell_type": "code",
   "execution_count": 415,
   "metadata": {},
   "outputs": [
    {
     "data": {
      "image/png": "[encoded data removed]",
      "text/plain": [
       "<matplotlib.figure.Figure at 0x7f7554621240>"
      ]
     },
     "metadata": {},
     "output_type": "display_data"
    }
   ],
   "source": [
    "#We will be using Line plot for this analysis\n",
    "#Here, we will explor the popularity of the movie with respect to time.\n",
    "\n",
    "popularity_mean = df.groupby('release_year')['popularity'].mean()\n",
    "\n",
    "#figure size(width, height)\n",
    "plt.figure(figsize=(12,6), dpi = 130)\n",
    "\n",
    "#on x-axis\n",
    "plt.xlabel('Release Year of Movies in the data set', fontsize = 12)\n",
    "#on y-axis\n",
    "plt.ylabel('Popularity of Movies', fontsize = 12)\n",
    "#title of the line plot\n",
    "plt.title('Movies Popularity Vs Year of their release.')\n",
    "\n",
    "#plotting the graph\n",
    "plt.plot(popularity_mean)\n",
    "\n",
    "#displaying the line plot\n",
    "plt.show()\n",
    "\n",
    "#Conclusion: One can see from the below plot, that movies' popularity is increasing with time. "
   ]
  },
  {
   "cell_type": "code",
   "execution_count": 416,
   "metadata": {},
   "outputs": [
    {
     "data": {
      "image/png": "[encoded data removed]",
      "text/plain": [
       "<matplotlib.figure.Figure at 0x7f7554609f28>"
      ]
     },
     "metadata": {},
     "output_type": "display_data"
    }
   ],
   "source": [
    "df_year_1 = df.query('release_year >=1960 and release_year < 1970')\n",
    "\n",
    "df_year_2 = df.query('release_year >=1970 and release_year < 1980')\n",
    "\n",
    "df_year_3 = df.query('release_year >=1980 and release_year < 1990')\n",
    "\n",
    "df_year_4 = df.query('release_year >=1990 and release_year < 2000')\n",
    "\n",
    "df_year_5 = df.query('release_year >=2000 and release_year < 2015')\n",
    "\n",
    "year_1_genre = find_top(df_year_1.genres,1)\n",
    "\n",
    "year_2_genre = find_top(df_year_2.genres,1)\n",
    "\n",
    "year_3_genre = find_top(df_year_3.genres,1)\n",
    "\n",
    "year_4_genre = find_top(df_year_4.genres,1)\n",
    "\n",
    "year_5_genre = find_top(df_year_5.genres,1)\n",
    "\n",
    "df_genre_years = pd.DataFrame({'1960 genre': year_1_genre, '1970 genre': year_2_genre, '1980 genre': year_3_genre, '1990 genre': year_4_genre,'After 2000 genre': year_5_genre })\n",
    "df_genre_years\n",
    "#df_genre_years.plot(kind='bar')\n",
    "\n",
    "genre_years = df_genre_years.stack().sort_values().plot.barh()\n",
    "\n",
    "genre_years.set(title='Popular Genre by Generation')\n",
    "\n",
    "genre_years.set_xlabel('Number of Movies')\n",
    "\n",
    "plt.show()\n",
    "\n",
    "#Conclusion: Drama Genre is most popular in 1960s, 1970s, 1990s and after 2000s. Comedy Genre is most popular in 1980s."
   ]
  },
  {
   "cell_type": "markdown",
   "metadata": {},
   "source": [
    "### Research Question 6: Top 5 movies by net profit, popularity and vote_average "
   ]
  },
  {
   "cell_type": "code",
   "execution_count": 417,
   "metadata": {},
   "outputs": [
    {
     "data": {
      "text/plain": [
       "0       Star Wars\n",
       "1          Avatar\n",
       "2         Titanic\n",
       "3    The Exorcist\n",
       "4            Jaws\n",
       "Name: original_title, dtype: object"
      ]
     },
     "execution_count": 417,
     "metadata": {},
     "output_type": "execute_result"
    }
   ],
   "source": [
    "#Here we will explore the top 5 movies, filtered by highest net profit earned.\n",
    "df.sort_values(by=['net_profit'],ascending=False).original_title.head(5).reset_index(drop=True)"
   ]
  },
  {
   "cell_type": "code",
   "execution_count": 418,
   "metadata": {},
   "outputs": [
    {
     "data": {
      "text/plain": [
       "0             Jurassic World\n",
       "1         Mad Max: Fury Road\n",
       "2               Interstellar\n",
       "3    Guardians of the Galaxy\n",
       "4                  Insurgent\n",
       "Name: original_title, dtype: object"
      ]
     },
     "execution_count": 418,
     "metadata": {},
     "output_type": "execute_result"
    }
   ],
   "source": [
    "#Here we will explore the top 5 movies, filtered by highest popularity earned.\n",
    "df.sort_values(by=['popularity'],ascending=False).original_title.head(5).reset_index(drop=True)"
   ]
  },
  {
   "cell_type": "code",
   "execution_count": 419,
   "metadata": {},
   "outputs": [
    {
     "data": {
      "text/plain": [
       "0                        The Story of Film: An Odyssey\n",
       "1                        Black Mirror: White Christmas\n",
       "2                                    Pink Floyd: Pulse\n",
       "3                  Dave Chappelle: Killin' Them Softly\n",
       "4    A Personal Journey with Martin Scorsese Throug...\n",
       "Name: original_title, dtype: object"
      ]
     },
     "execution_count": 419,
     "metadata": {},
     "output_type": "execute_result"
    }
   ],
   "source": [
    "#Here we will explore the top 5 movies, filtered by highest vote_average earned.\n",
    "df.sort_values(by=['vote_average'],ascending=False).original_title.head(5).reset_index(drop=True)"
   ]
  },
  {
   "cell_type": "markdown",
   "metadata": {},
   "source": [
    "<a id='conclusions'></a>\n",
    "## Conclusions\n",
    "Following conclusions can be made from this movie dataset.\n",
    "\n",
    "1) We explored the relationships between the dependent variables. From here, we discovered that popularity is directly proportional to revenue. But, there is no clear trend between vote average and revenue.\n",
    "\n",
    "2) Secondly, we explored the impact of budget on dependent variables. The budget of the movie affects very positively on the net profit and popularity of the movie. But the budget has no impact on the vote average.\n",
    "\n",
    "3) Next, we explored the impact of runtime on dependent variables. Popularity of the movie is directly proportional to the runtime. In order to ensure higher profits, the runtime of the movie should atleast be 112 minutes.The impact of runtime on vote average is relatively small.\n",
    "\n",
    "4) We explored the cast, directors, genres and producers present in the best and worst performing movies.From this analysis, we do not get clear results on genres and producer. Some genres and producers are found in both best and worst performing movies.\n",
    "\n",
    "    1) Cast: Tom Hanks, Brad Pitt, Leonardo DiCaprio, Tom Cruise, Samuel Jackson are present in the best performing movies. While Luke Wilson, Tim Roth, Catherine O'Hara, Laraine and Oliver Platt are present in the worst performing movies.\n",
    "\n",
    "    2) Director: Steven Spielberg, Clint Eastwood, Robert Zemeckis, Quentin Tarantino and Peter Jackson have directed the best performing movies.While Gary Goldman, David Chase, Robert Iscove, Renny Harlin and Dick Maas have directed the worst performing movies.\n",
    "\n",
    "    3) Genres: It is unclear on specific genres that provide the best or worst performing movies. This is because Comedy, Drama, Action and Thriller Genres are present in both best and worst performing movies. While, Adventure Genre is one of the best genre, while Romance is one the worst genre.\n",
    "\n",
    "    4) Producers: Again, it is not very clear on producers, who produce best or worst movies. For example, Warner Bros, Universal Pictures and 20th Century Fox have produced both the best and worst performing movies. While, Paramount Pictures and Walt Disney have produced the best performing movies. Franchise Pictures and TriStar Pictures have produced the worst performing movies.\n",
    "\n",
    "5) We also explored how the release year impact the popularity of the movie and the genre. We discovered that, Drama Genre is most popular in 1960s, 1970s, 1990s and after 2000s. Comedy Genre is most popular in 1980s. In addition, The movies' popularity is increasing with time. \n",
    "\n",
    "6) The top 5 movies by net profit, popularity and vote_average are as following. \n",
    "    1) Net Profit --> Star Wars, Avatar, Titanic, The Exorcist, Jaws\n",
    "    2) Popularity --> Jurassic World, Mad Max: Fury Road, Interstellar, Guardians of the Galaxy, Insurgent\n",
    "    3) Vote Average --> The Story of Film: An Odyssey, The Mask You Live In, Black Mirror: White Christmas,Life Cycles, Pink  Floyd: Pulse.\n",
    "    \n",
    "## Limitations \n",
    "1) Initially, we had 10866 data, but we decided to take out null values from certain columns. Therefore, we ended up with 10703 data points. It would have been better to use internet to fill out the missing rows, instead of deleting them.\n",
    "    \n",
    "2) This dataset has missing units, specially for popularity, budget and revenue. It is not clear if all the values in the budget and revenue columns represent the same currency. \n",
    "    \n",
    "3) For the popularity, the maximum value is 32.99, while most values are present in between 0.2 and 0.7. It would have been better to take out the outliers, not only from the popularity column but also from other columns.\n",
    "    \n",
    "4) We replaced zero values with null values in the budget_adj and revenue_adj columns. It would have been better to fill out these values by finding the information from the internet. This way, we might have gotten more clearer understanding of the impact of budget and revenue on other parameters.\n",
    "\n",
    "## References\n",
    "1) https://medium.com/@onpillow/01-investigate-tmdb-movie-dataset-python-data-analysis-project-part-1-data-wrangling-3d2b55ea7714\n",
    "\n",
    "2) https://medium.com/@onpillow/02-investigate-tmdb-movie-dataset-python-data-analysis-project-part-2-exploratory-data-4839f697092\n",
    "\n",
    "3) https://github.com/antra0497/Udacity--Project-Investigate-TMDB-Movies-Dataset/blob/master/.ipynb_checkpoints/investigate-a-dataset-template-checkpoint.ipynb\n"
   ]
  },
  {
   "cell_type": "code",
   "execution_count": 420,
   "metadata": {},
   "outputs": [
    {
     "data": {
      "text/plain": [
       "0"
      ]
     },
     "execution_count": 420,
     "metadata": {},
     "output_type": "execute_result"
    }
   ],
   "source": [
    "from subprocess import call\n",
    "call(['python', '-m', 'nbconvert', 'Investigate_a_Dataset.ipynb'])"
   ]
  }
 ],
 "metadata": {
  "kernelspec": {
   "display_name": "Python 3",
   "language": "python",
   "name": "python3"
  },
  "language_info": {
   "codemirror_mode": {
    "name": "ipython",
    "version": 3
   },
   "file_extension": ".py",
   "mimetype": "text/x-python",
   "name": "python",
   "nbconvert_exporter": "python",
   "pygments_lexer": "ipython3",
   "version": "3.6.3"
  }
 },
 "nbformat": 4,
 "nbformat_minor": 2
}
